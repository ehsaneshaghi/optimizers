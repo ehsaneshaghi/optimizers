{
 "cells": [
  {
   "cell_type": "code",
   "execution_count": 1,
   "metadata": {},
   "outputs": [],
   "source": [
    "using JuMP\n",
    "using GLPK\n",
    "using ECOS\n",
    "using MAT\n",
    "using SparseArrays\n",
    "using LinearAlgebra\n",
    "using MathOptInterface\n",
    "const MOI = MathOptInterface\n",
    "using DelimitedFiles\n",
    "using COSMO\n",
    "using DataFrames\n",
    "using CSV"
   ]
  },
  {
   "cell_type": "code",
   "execution_count": 2,
   "metadata": {
    "scrolled": true
   },
   "outputs": [
    {
     "name": "stdout",
     "output_type": "stream",
     "text": [
      "(8399, 13543)(13543, 100)done"
     ]
    }
   ],
   "source": [
    "vars = matread(\"R5T2.mat\")\n",
    "S = vars[\"S\"]\n",
    "U = vars[\"U\"]\n",
    "L = vars[\"L\"]\n",
    "K = vars[\"K\"]\n",
    "n,d = size(S)\n",
    "print(size(S))\n",
    "print(size(L))\n",
    "\n",
    "n,d = size(S) # n=10 d=100\n",
    "d,k = size(L) # k = 5\n",
    "\n",
    "print(\"done\")"
   ]
  },
  {
   "cell_type": "code",
   "execution_count": 6,
   "metadata": {},
   "outputs": [
    {
     "name": "stdout",
     "output_type": "stream",
     "text": [
      "1 ,2 ,3 ,4 ,5 ,6 ,7 ,8 ,9 ,10 ,11 ,12 ,13 ,14 ,15 ,16 ,17 ,18 ,19 ,20 ,21 ,22 ,23 ,24 ,25 ,26 ,27 ,28 ,29 ,30 ,31 ,32 ,33 ,34 ,35 ,36 ,37 ,38 ,39 ,40 ,41 ,42 ,43 ,44 ,45 ,46 ,47 ,48 ,49 ,50 ,51 ,52 ,53 ,54 ,55 ,56 ,57 ,58 ,59 ,60 ,61 ,62 ,63 ,64 ,65 ,66 ,67 ,68 ,69 ,70 ,71 ,72 ,73 ,74 ,75 ,76 ,77 ,78 ,79 ,80 ,81 ,82 ,83 ,84 ,85 ,86 ,87 ,88 ,89 ,90 ,91 ,92 ,93 ,94 ,95 ,96 ,97 ,98 ,99 ,100 ,"
     ]
    }
   ],
   "source": [
    "X = zeros(size(L)[1],size(L)[2]);\n",
    "\n",
    "n,d = size(S)\n",
    "\n",
    "for j in 1:size(X)[2]\n",
    "    model = Model(ECOS.Optimizer)\n",
    "    @variable(model, L[i,j] <= x[i = 1:d] <= U[i,j])\n",
    "    @variable(model, y_abs[i = 1:n])\n",
    "    @constraint(model,y_abs .>= S*x)\n",
    "    @constraint(model,y_abs .>= -S*x)\n",
    "    @objective(model, Min, sum(y_abs[i] for i in 1:n));\n",
    "    set_silent(model)\n",
    "    optimize!(model)\n",
    "    x = value.(x);\n",
    "    X[:,j] = x;\n",
    "    print(j)\n",
    "    print(\" ,\")\n",
    "end"
   ]
  },
  {
   "cell_type": "code",
   "execution_count": 7,
   "metadata": {},
   "outputs": [],
   "source": [
    "Z = S*X;"
   ]
  },
  {
   "cell_type": "code",
   "execution_count": 8,
   "metadata": {},
   "outputs": [
    {
     "data": {
      "text/plain": [
       "100"
      ]
     },
     "execution_count": 8,
     "metadata": {},
     "output_type": "execute_result"
    }
   ],
   "source": [
    "zero_cols = 0\n",
    "for i in 1:size(X)[2]\n",
    "    zero_cols += Int16( (sum( S*X[:,i] .>= 2e-5 ) + sum( S*X[:,i] .<= -2e-5 )) == 0)\n",
    "end\n",
    "zero_cols"
   ]
  },
  {
   "cell_type": "code",
   "execution_count": 9,
   "metadata": {},
   "outputs": [],
   "source": [
    "writedlm(\"output.txt\", Matrix(reshape(value.(X),(d,k))), ',')"
   ]
  }
 ],
 "metadata": {
  "kernelspec": {
   "display_name": "Julia 1.6.1",
   "language": "julia",
   "name": "julia-1.6"
  },
  "language_info": {
   "file_extension": ".jl",
   "mimetype": "application/julia",
   "name": "julia",
   "version": "1.6.1"
  }
 },
 "nbformat": 4,
 "nbformat_minor": 4
}

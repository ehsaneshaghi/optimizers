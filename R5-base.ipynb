{
 "cells": [
  {
   "cell_type": "code",
   "execution_count": 1,
   "metadata": {},
   "outputs": [],
   "source": [
    "using JuMP\n",
    "using GLPK\n",
    "using ECOS\n",
    "using MAT\n",
    "using SparseArrays\n",
    "using LinearAlgebra\n",
    "using MathOptInterface\n",
    "const MOI = MathOptInterface\n",
    "using DelimitedFiles\n",
    "using COSMO\n",
    "using CSV\n",
    "using DataFrames\n",
    "using DelimitedFiles\n",
    "using Suppressor"
   ]
  },
  {
   "cell_type": "code",
   "execution_count": 2,
   "metadata": {
    "scrolled": true
   },
   "outputs": [
    {
     "name": "stdout",
     "output_type": "stream",
     "text": [
      "(15638, 28301)(28301, 200)done"
     ]
    }
   ],
   "source": [
    "vars = matread(\"../R5T3.mat\")\n",
    "S = vars[\"S\"]\n",
    "U = vars[\"U\"]\n",
    "L = vars[\"L\"]\n",
    "K = vars[\"K\"]\n",
    "n,d = size(S)\n",
    "print(size(S))\n",
    "print(size(L))\n",
    "\n",
    "n,d = size(S) # n=10 d=100\n",
    "d,k = size(L) # k = 5\n",
    "\n",
    "print(\"done\")\n",
    "\n",
    "target = size(L)[2] - K ;"
   ]
  },
  {
   "cell_type": "code",
   "execution_count": 3,
   "metadata": {},
   "outputs": [],
   "source": [
    "X = zeros(size(L)[1],size(L)[2]);\n"
   ]
  },
  {
   "cell_type": "code",
   "execution_count": 4,
   "metadata": {},
   "outputs": [],
   "source": [
    "function f_zero_rows(X)\n",
    "    zero_rows = 0\n",
    "    for i in 1:size(X)[1]\n",
    "        zero_rows += Int16( (sum( X[i,:] .>= 2e-5 ) + sum( X[i,:] .<= -2e-5 )) == 0)\n",
    "    end\n",
    "    return zero_rows\n",
    "end;"
   ]
  },
  {
   "cell_type": "code",
   "execution_count": 5,
   "metadata": {},
   "outputs": [],
   "source": [
    "function f_zero_cols(Z)\n",
    "    zero_cols = 0\n",
    "    for i in 1:size(Z)[2]\n",
    "        zero_cols += Int16( (sum( Z[:,i] .> 2e-5 ) + sum( Z[:,i] .< -2e-5 )) == 0)\n",
    "    end\n",
    "    return zero_cols\n",
    "end;"
   ]
  },
  {
   "cell_type": "code",
   "execution_count": null,
   "metadata": {},
   "outputs": [
    {
     "name": "stdout",
     "output_type": "stream",
     "text": [
      " ,1 ,2 ,3 ,4 ,5 ,6"
     ]
    }
   ],
   "source": [
    "n,d = size(S)\n",
    "lambda = 1\n",
    "zero_cols = 0\n",
    "X_c = copy(X)\n",
    "@suppress_err begin\n",
    "    \n",
    "    while(zero_cols < target)\n",
    "        for j in 1:size(X)[2]\n",
    "            model = Model(ECOS.Optimizer)\n",
    "            @variable(model, L[i,j] <= x[i = 1:d] <= U[i,j],start=X[i,j])\n",
    "            @variable(model, y_abs[i = 1:n])\n",
    "            @constraint(model,y_abs .>= S*x)\n",
    "            @constraint(model,y_abs .>= -S*x)\n",
    "            @variable(model, x_abs[1:d])\n",
    "            @constraint(model, x_abs .>= x)\n",
    "            @constraint(model, x_abs .>= -x)\n",
    "            @objective(model, Min, sum(y_abs[i] for i in 1:n) + (1/lambda)*sum(x_abs[i] for i in 1:d));\n",
    "            set_silent(model)\n",
    "            optimize!(model)\n",
    "            x = value.(x);\n",
    "            X[:,j] = x;\n",
    "            print(\" ,\",j)\n",
    "        end\n",
    "        print(\"\\n\")\n",
    "        println(\"zero cols: \", f_zero_cols(S*X))\n",
    "        println(\"zero rows: \", f_zero_rows(X))\n",
    "        println(\"lambda: \", lambda)\n",
    "        \n",
    "        if(zero_cols >= target)\n",
    "            break\n",
    "        else\n",
    "            X_c = copy(X)\n",
    "        end\n",
    "        lambda = sqrt(lambda * (target-zero_cols))\n",
    "        println(\"next lambda: \", lambda)\n",
    "        println(\"-------------------------------\")\n",
    "    end\n",
    "end"
   ]
  },
  {
   "cell_type": "code",
   "execution_count": null,
   "metadata": {},
   "outputs": [],
   "source": [
    "println(sum(vec(X_c) .> vec(U)+ones(size(vec(U))[1])*2e-5));\n",
    "println(sum(vec(X_c) .< vec(L)-ones(size(vec(U))[1])*2e-5));"
   ]
  },
  {
   "cell_type": "code",
   "execution_count": null,
   "metadata": {},
   "outputs": [],
   "source": [
    "writedlm(\"output.txt\", Matrix(reshape(value.(X_c),(d,k))), ',')"
   ]
  }
 ],
 "metadata": {
  "kernelspec": {
   "display_name": "Julia 1.6.1",
   "language": "julia",
   "name": "julia-1.6"
  },
  "language_info": {
   "file_extension": ".jl",
   "mimetype": "application/julia",
   "name": "julia",
   "version": "1.6.1"
  }
 },
 "nbformat": 4,
 "nbformat_minor": 4
}

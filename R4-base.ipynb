{
 "cells": [
  {
   "cell_type": "code",
   "execution_count": null,
   "metadata": {},
   "outputs": [],
   "source": [
    "using JuMP\n",
    "using GLPK\n",
    "using ECOS\n",
    "using MAT\n",
    "using SparseArrays\n",
    "using LinearAlgebra\n",
    "using MathOptInterface\n",
    "const MOI = MathOptInterface\n",
    "using DelimitedFiles\n",
    "using COSMO\n",
    "using CSV\n",
    "using DataFrames\n",
    "using DelimitedFiles"
   ]
  },
  {
   "cell_type": "code",
   "execution_count": null,
   "metadata": {},
   "outputs": [],
   "source": [
    "vars = matread(\"R4T3.mat\")\n",
    "S = vars[\"S\"]\n",
    "U = vars[\"U\"]\n",
    "L = vars[\"L\"]\n",
    "lambda = vars[\"lambda\"]\n",
    "n,d = size(S)\n",
    "print(size(S))\n",
    "print(size(L))\n",
    "\n",
    "n,d = size(S) # n=10 d=100\n",
    "d,k = size(L) # k = 5\n",
    "\n",
    "print(\"done\")"
   ]
  },
  {
   "cell_type": "code",
   "execution_count": null,
   "metadata": {},
   "outputs": [],
   "source": [
    "X = zeros(size(L)[1],size(L)[2]);\n",
    "\n",
    "n,d = size(S)\n",
    "\n",
    "for j in 1:size(X)[2]\n",
    "    model = Model(ECOS.Optimizer)\n",
    "    @variable(model, L[i,j] <= x[i = 1:d] <= U[i,j],start=X[i,j])\n",
    "    @variable(model, y_abs[i = 1:n])\n",
    "    @constraint(model,y_abs .>= S*x)\n",
    "    @constraint(model,y_abs .>= -S*x)\n",
    "    @variable(model, x_abs[1:d])\n",
    "    @constraint(model, x_abs .>= x)\n",
    "    @constraint(model, x_abs .>= -x)\n",
    "    @objective(model, Min, (1/lambda)*sum(x_abs[i] for i in 1:d) + sum(y_abs[i] for i in 1:n));\n",
    "    set_silent(model)\n",
    "    optimize!(model)\n",
    "    x = value.(x);\n",
    "    X[:,j] = x;\n",
    "    print(j)\n",
    "    print(\" ,\")\n",
    "end"
   ]
  },
  {
   "cell_type": "code",
   "execution_count": null,
   "metadata": {},
   "outputs": [],
   "source": [
    "writedlm(\"output.txt\", Matrix(reshape(value.(X),(d,k))), ',')"
   ]
  }
 ],
 "metadata": {
  "kernelspec": {
   "display_name": "Julia 1.6.1",
   "language": "julia",
   "name": "julia-1.6"
  },
  "language_info": {
   "file_extension": ".jl",
   "mimetype": "application/julia",
   "name": "julia",
   "version": "1.6.1"
  }
 },
 "nbformat": 4,
 "nbformat_minor": 4
}

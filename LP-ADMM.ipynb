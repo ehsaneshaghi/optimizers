{
 "cells": [
  {
   "cell_type": "markdown",
   "metadata": {},
   "source": [
    "1. find an initialization of V s.t  SV = 0 and minimize L1 norm of V\n",
    "2. improve sparsity of SV rows by combining the loss functions with given lambda, using ADMM"
   ]
  },
  {
   "cell_type": "code",
   "execution_count": 2,
   "metadata": {},
   "outputs": [],
   "source": [
    "using JuMP\n",
    "using GLPK\n",
    "using ECOS\n",
    "using MAT\n",
    "using SparseArrays\n",
    "using LinearAlgebra\n",
    "using MathOptInterface\n",
    "const MOI = MathOptInterface\n",
    "using DelimitedFiles\n",
    "using COSMO\n",
    "using CSV\n",
    "using DataFrames\n",
    "using DelimitedFiles"
   ]
  },
  {
   "cell_type": "code",
   "execution_count": 6,
   "metadata": {},
   "outputs": [
    {
     "name": "stdout",
     "output_type": "stream",
     "text": [
      "(2172, 4456)(4456, 50)done"
     ]
    }
   ],
   "source": [
    "vars = matread(\"R4T1.mat\")\n",
    "S = vars[\"S\"]\n",
    "U = vars[\"U\"]\n",
    "L = vars[\"L\"]\n",
    "lambda = vars[\"lambda\"]\n",
    "n,d = size(S)\n",
    "print(size(S))\n",
    "print(size(L))\n",
    "\n",
    "n,d = size(S) # n=10 d=100\n",
    "d,k = size(L) # k = 5\n",
    "\n",
    "print(\"done\")"
   ]
  },
  {
   "cell_type": "code",
   "execution_count": 9,
   "metadata": {},
   "outputs": [
    {
     "name": "stdout",
     "output_type": "stream",
     "text": [
      "1, 2, 3, 4, 5, 6, 7, 8, 9, 10, 11, 12, 13, 14, 15, 16, 17, 18, 19, 20, 21, 22, 23, 24, 25, 26, 27, 28, 29, 30, 31, 32, 33, 34, 35, 36, 37, 38, 39, 40, 41, 42, 43, 44, 45, 46, 47, 48, 49, 50, "
     ]
    }
   ],
   "source": [
    "X = zeros(size(L)[1],size(L)[2]);\n",
    "\n",
    "n,d = size(S)\n",
    "\n",
    "for j in 1:size(X)[2]\n",
    "    model = Model(ECOS.Optimizer)\n",
    "    @variable(model, L[i,j] <= x[i = 1:d] <= U[i,j])\n",
    "    @constraint(model,S*x .== 0)\n",
    "    @variable(model, x_abs[1:d])\n",
    "    @constraint(model, x_abs .>= x)\n",
    "    @constraint(model, x_abs .>= -x)\n",
    "    @objective(model, Min, sum(x_abs[i] for i in 1:d));\n",
    "    set_silent(model)\n",
    "    optimize!(model)\n",
    "    x = value.(x);\n",
    "    X[:,j] = x;\n",
    "    print(j)\n",
    "    print(\", \")\n",
    "end"
   ]
  },
  {
   "cell_type": "code",
   "execution_count": 10,
   "metadata": {},
   "outputs": [
    {
     "name": "stdout",
     "output_type": "stream",
     "text": [
      "------------------------------------------------------------------\n",
      "          COSMO v0.8.1 - A Quadratic Objective Conic Solver\n",
      "                         Michael Garstka\n",
      "                University of Oxford, 2017 - 2021\n",
      "------------------------------------------------------------------\n",
      "\n",
      "Problem:  x ∈ R^{227306},\n",
      "          constraints: A ∈ R^{783956x227306} (1654356 nnz),\n",
      "          matrix size to factor: 1011262x1011262,\n",
      "          Floating-point precision: Float64\n",
      "Sets:     Nonnegatives) of dim: 445600\n",
      "          SecondOrderCone) of dim: 2222\n",
      "          SecondOrderCone) of dim: 2222\n",
      "          SecondOrderCone) of dim: 2222\n",
      "          SecondOrderCone) of dim: 2222\n",
      "          ... and 4502 more\n",
      "Settings: ϵ_abs = 1.0e-06, ϵ_rel = 1.0e-05,\n",
      "          ϵ_prim_inf = 1.0e-06, ϵ_dual_inf = 1.0e-04,\n",
      "          ρ = 0.1, σ = 1e-06, α = 1.6,\n",
      "          max_iter = 500,\n",
      "          scaling iter = 10 (on),\n",
      "          check termination every 25 iter,\n",
      "          check infeasibility every 40 iter,\n",
      "          KKT system solver: QDLDL\n",
      "Acc:      Anderson Type2{QRDecomp},\n",
      "          Memory size = 15, RestartedMemory,\t\n",
      "          Safeguarded: true, tol: 2.0\n",
      "Setup Time: 3792.69ms\n",
      "\n",
      "Iter:\tObjective:\tPrimal Res:\tDual Res:\tRho:\n",
      "1\t-2.0335e+01\t4.1779e+00\t1.5645e+01\t1.0000e-01\n",
      "25\t-1.2614e+02\t2.2443e-02\t3.0019e+00\t1.0000e-01\n",
      "50\t-7.0268e+02\t6.4631e-01\t3.0041e+00\t2.5040e-03\n",
      "75\t-6.2653e+03\t1.0170e-01\t3.0000e+00\t2.5040e-03\n",
      "100\t-4.7462e+05\t2.1661e+00\t3.0000e+00\t2.3175e-05\n",
      "125\t-1.1181e+06\t7.9144e-01\t3.0000e+00\t2.3175e-05\n",
      "150\t-1.1424e+07\t4.4617e+00\t3.0000e+00\t1.0000e-06\n",
      "\n",
      "------------------------------------------------------------------\n",
      ">>> Results\n",
      "Status: \u001b[31mDual_infeasible\u001b[39m\n",
      "Iterations: 174\n",
      "Optimal objective: -Inf\n",
      "Runtime: 31.285s (31284.95ms)\n",
      "\n"
     ]
    }
   ],
   "source": [
    "model = Model(COSMO.Optimizer)\n",
    "\n",
    "set_optimizer_attribute(model, \"max_iter\",500)\n",
    "set_optimizer_attribute(model, \"eps_prim_inf\",1e-6)\n",
    "set_optimizer_attribute(model, \"eps_abs\",1e-6)\n",
    "\n",
    "\n",
    "@variable(model, L[i] <= x[i = 1:d*k] <= U[i],start=vec(X)[i])\n",
    "@variable(model,  norm_x[1:d])\n",
    "@variable(model, norm_c[1:k])\n",
    "\n",
    "for i in 1:k\n",
    "    @constraint(model,[norm_c;S*x[i*d-d+1:i*d]] in SecondOrderCone())\n",
    "end\n",
    "\n",
    "for i in 1:d\n",
    "    @constraint(model,[norm_x[i]; x[[j*d-d+i for j in 1:k]]] in SecondOrderCone())\n",
    "end\n",
    "\n",
    "@objective(model,Min,(1/lambda)*sum(norm_x[i] for i in 1:d)+sum(norm_c[i] for i in 1:k))\n",
    "optimize!(model)"
   ]
  },
  {
   "cell_type": "code",
   "execution_count": 41,
   "metadata": {},
   "outputs": [],
   "source": [
    "writedlm(\"output.txt\", Matrix(reshape(value.(x),(d,k))), ',')"
   ]
  }
 ],
 "metadata": {
  "kernelspec": {
   "display_name": "Julia 1.6.1",
   "language": "julia",
   "name": "julia-1.6"
  },
  "language_info": {
   "file_extension": ".jl",
   "mimetype": "application/julia",
   "name": "julia",
   "version": "1.6.1"
  }
 },
 "nbformat": 4,
 "nbformat_minor": 4
}

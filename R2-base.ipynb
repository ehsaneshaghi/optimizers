{
 "cells": [
  {
   "cell_type": "code",
   "execution_count": 2,
   "metadata": {},
   "outputs": [],
   "source": [
    "using JuMP\n",
    "using GLPK\n",
    "using ECOS\n",
    "using MAT\n",
    "using SparseArrays\n",
    "using LinearAlgebra\n",
    "using MathOptInterface\n",
    "const MOI = MathOptInterface\n",
    "using DelimitedFiles"
   ]
  },
  {
   "cell_type": "code",
   "execution_count": 7,
   "metadata": {},
   "outputs": [
    {
     "name": "stdout",
     "output_type": "stream",
     "text": [
      "(2436, 3357)(3357,)"
     ]
    }
   ],
   "source": [
    "vars = matread(\"R1T2.mat\")\n",
    "S = vars[\"S\"]\n",
    "u1 = vars[\"u1\"]\n",
    "l1 = vars[\"l1\"]\n",
    "n,d = size(S)\n",
    "u1 = sparsevec(u1[\"nzind\"],u1[\"nzval\"],u1[\"n\"])\n",
    "l1 = sparsevec(l1[\"nzind\"],l1[\"nzval\"],l1[\"n\"])\n",
    "print(size(S))\n",
    "print(size(u1))"
   ]
  },
  {
   "cell_type": "code",
   "execution_count": 5,
   "metadata": {},
   "outputs": [],
   "source": [
    "n,d = size(S)\n",
    "model = Model(ECOS.Optimizer)\n",
    "@variable(model, l1[i] <= x[i = 1:d] <= u1[i])\n",
    "@constraint(model,S*x .== 0)\n",
    "@variable(model, x_abs[1:d])\n",
    "@constraint(model, x_abs .>= x)\n",
    "@constraint(model, x_abs .>= -x)\n",
    "@objective(model, Min, sum(x_abs[i] for i in 1:d));\n",
    "set_silent(model)\n",
    "optimize!(model)"
   ]
  },
  {
   "cell_type": "code",
   "execution_count": 23,
   "metadata": {},
   "outputs": [],
   "source": [
    "writedlm( \"output.txt\", value.(x), ',') "
   ]
  }
 ],
 "metadata": {
  "kernelspec": {
   "display_name": "Julia 1.6.1",
   "language": "julia",
   "name": "julia-1.6"
  },
  "language_info": {
   "file_extension": ".jl",
   "mimetype": "application/julia",
   "name": "julia",
   "version": "1.6.1"
  }
 },
 "nbformat": 4,
 "nbformat_minor": 4
}

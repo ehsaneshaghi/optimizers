{
 "cells": [
  {
   "cell_type": "code",
   "execution_count": 159,
   "metadata": {},
   "outputs": [],
   "source": [
    "import numpy as np\n",
    "import mat73\n",
    "from scipy import sparse\n",
    "from scipy.sparse.linalg import svds, eigs\n",
    "from scipy.linalg import null_space\n",
    "import seaborn as sns;\n",
    "import pandas as pd"
   ]
  },
  {
   "cell_type": "code",
   "execution_count": 156,
   "metadata": {},
   "outputs": [
    {
     "name": "stdout",
     "output_type": "stream",
     "text": [
      "S.shape:  (2436, 3357)\n",
      "number of eigen values: 6\n",
      "eigen values: [709.68447203 252.93824367 201.27794811 174.39373953 145.1121034\n",
      " 140.74769672]\n"
     ]
    }
   ],
   "source": [
    "filename = \"R1T2.mat\"\n",
    "\n",
    "with h5py.File(filename, \"r\") as hf:\n",
    "    S = sparse.csc_matrix((hf['S']['data'], hf['S']['ir'], hf['S']['jc']))\n",
    "print(\"S.shape: \",S.shape)\n",
    "print(\"number of eigen values:\",len(np.sqrt(eigs(S.dot(S.T))[0]).real))\n",
    "print(\"eigen values:\",np.sqrt(eigs(S.dot(S.T))[0]).real)"
   ]
  },
  {
   "cell_type": "code",
   "execution_count": 160,
   "metadata": {},
   "outputs": [],
   "source": [
    "ns = null_space(Sd)"
   ]
  },
  {
   "cell_type": "code",
   "execution_count": 161,
   "metadata": {},
   "outputs": [
    {
     "data": {
      "text/plain": [
       "(3357, 991)"
      ]
     },
     "execution_count": 161,
     "metadata": {},
     "output_type": "execute_result"
    }
   ],
   "source": [
    "ns.shape"
   ]
  }
 ],
 "metadata": {
  "kernelspec": {
   "display_name": "Python 3",
   "language": "python",
   "name": "python3"
  },
  "language_info": {
   "codemirror_mode": {
    "name": "ipython",
    "version": 3
   },
   "file_extension": ".py",
   "mimetype": "text/x-python",
   "name": "python",
   "nbconvert_exporter": "python",
   "pygments_lexer": "ipython3",
   "version": "3.6.9"
  }
 },
 "nbformat": 4,
 "nbformat_minor": 4
}

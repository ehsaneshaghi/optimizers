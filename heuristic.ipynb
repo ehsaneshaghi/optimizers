{
 "cells": [
  {
   "cell_type": "code",
   "execution_count": 53,
   "metadata": {},
   "outputs": [],
   "source": [
    "import numpy as np\n",
    "import h5py    \n",
    "from scipy import sparse\n"
   ]
  },
  {
   "cell_type": "code",
   "execution_count": 57,
   "metadata": {},
   "outputs": [],
   "source": [
    "filename = \"../R5T2.mat\"\n",
    "\n",
    "with h5py.File(filename, \"r\") as hf:\n",
    "    L = sparse.csc_matrix((hf['L']['data'], hf['L']['ir'], hf['L']['jc']))\n",
    "    U = sparse.csc_matrix((hf['U']['data'], hf['U']['ir'], hf['U']['jc']))"
   ]
  },
  {
   "cell_type": "code",
   "execution_count": 58,
   "metadata": {},
   "outputs": [],
   "source": [
    "L = L.todense()\n",
    "U = U.todense()"
   ]
  },
  {
   "cell_type": "code",
   "execution_count": 59,
   "metadata": {},
   "outputs": [],
   "source": [
    "miss = []\n",
    "for i in range(L.shape[1]-1):\n",
    "    miss.append(set(np.where(L[:,i]>0)[0]).union(set(np.where(U[:,i]<0)[0])))\n",
    "\n",
    "miss = set().union(*miss)\n",
    "\n",
    "hit = np.array(list(set(np.arange(0,L.shape[0])).difference(miss)))\n",
    "\n",
    "miss = np.array(list(miss))"
   ]
  },
  {
   "cell_type": "code",
   "execution_count": 111,
   "metadata": {},
   "outputs": [],
   "source": [
    "np.savetxt(\"miss.csv\",miss+1,delimiter=',')\n",
    "np.savetxt(\"hit.csv\",hit+1,delimiter=',')"
   ]
  }
 ],
 "metadata": {
  "kernelspec": {
   "display_name": "Python 3",
   "language": "python",
   "name": "python3"
  },
  "language_info": {
   "codemirror_mode": {
    "name": "ipython",
    "version": 3
   },
   "file_extension": ".py",
   "mimetype": "text/x-python",
   "name": "python",
   "nbconvert_exporter": "python",
   "pygments_lexer": "ipython3",
   "version": "3.6.9"
  }
 },
 "nbformat": 4,
 "nbformat_minor": 4
}

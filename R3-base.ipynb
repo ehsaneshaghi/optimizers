{
 "cells": [
  {
   "cell_type": "code",
   "execution_count": null,
   "metadata": {},
   "outputs": [],
   "source": [
    "using JuMP\n",
    "using GLPK\n",
    "using ECOS\n",
    "using MAT\n",
    "using SparseArrays\n",
    "using LinearAlgebra\n",
    "using MathOptInterface\n",
    "const MOI = MathOptInterface\n",
    "using DelimitedFiles\n",
    "using COSMO"
   ]
  },
  {
   "cell_type": "code",
   "execution_count": null,
   "metadata": {},
   "outputs": [],
   "source": [
    "vars = matread(\"R3T3.mat\")\n",
    "S = vars[\"S\"]\n",
    "U = vars[\"U\"]\n",
    "L = vars[\"L\"]\n",
    "n,d = size(S)\n",
    "print(size(S))\n",
    "print(size(L))\n",
    "\n",
    "n,d = size(S) # n=10 d=100\n",
    "d,k = size(L) # k = 5\n",
    "\n",
    "L = vec(L)\n",
    "U = vec(U)\n",
    "print(\"done\")"
   ]
  },
  {
   "cell_type": "code",
   "execution_count": null,
   "metadata": {},
   "outputs": [],
   "source": [
    "model = Model(ECOS.Optimizer)\n",
    "\n",
    "set_optimizer_attribute(model, \"max_iter\", 500)\n",
    "\n",
    "@variable(model, L[i] <= x[i = 1:d*k] <= U[i])\n",
    "@variable(model,  norm_x[1:d])\n",
    "\n",
    "for i in 1:k\n",
    "    @constraint(model,S*x[i*d-d+1:i*d] .== 0)\n",
    "end\n",
    "\n",
    "for i in 1:d\n",
    "    @constraint(model,[norm_x[i]; x[[j*d-d+i for j in 1:k]]] in SecondOrderCone())\n",
    "end\n",
    "@objective(model,Min,sum(norm_x[i] for i in 1:d))\n",
    "optimize!(model)"
   ]
  },
  {
   "cell_type": "code",
   "execution_count": null,
   "metadata": {},
   "outputs": [],
   "source": [
    "writedlm( \"output.txt\", Matrix(reshape(value.(x),(d,k))), ',')"
   ]
  }
 ],
 "metadata": {
  "kernelspec": {
   "display_name": "Julia 1.6.1",
   "language": "julia",
   "name": "julia-1.6"
  },
  "language_info": {
   "file_extension": ".jl",
   "mimetype": "application/julia",
   "name": "julia",
   "version": "1.6.1"
  }
 },
 "nbformat": 4,
 "nbformat_minor": 4
}

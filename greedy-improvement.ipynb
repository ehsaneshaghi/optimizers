{
 "cells": [
  {
   "cell_type": "code",
   "execution_count": 1,
   "metadata": {},
   "outputs": [
    {
     "name": "stderr",
     "output_type": "stream",
     "text": [
      "┌ Info: Installing Julia nodeps kernelspec in /home/ehsan/.local/share/jupyter/kernels/julia-nodeps-1.6\n",
      "└ @ IJulia /home/ehsan/.julia/packages/IJulia/e8kqU/deps/kspec.jl:94\n"
     ]
    }
   ],
   "source": [
    "using JuMP\n",
    "using GLPK\n",
    "using ECOS\n",
    "using MAT\n",
    "using SparseArrays\n",
    "using LinearAlgebra\n",
    "using MathOptInterface\n",
    "const MOI = MathOptInterface\n",
    "using DelimitedFiles\n",
    "using COSMO\n",
    "using DataFrames\n",
    "using CSV\n",
    "using IJulia\n",
    "IJulia.installkernel(\"Julia nodeps\", \"--depwarn=no\")\n",
    "using Suppressor"
   ]
  },
  {
   "cell_type": "code",
   "execution_count": 126,
   "metadata": {},
   "outputs": [],
   "source": [
    "X = Array(DataFrame(CSV.File(\"output.txt\", delim=\",\",header=false)));\n",
    "hit = vec(DataFrame(CSV.File(\"hit.csv\", delim=\",\",header=false))[:,1]);\n",
    "miss = vec(DataFrame(CSV.File(\"miss.csv\", delim=\",\",header=false))[:,1]);\n"
   ]
  },
  {
   "cell_type": "code",
   "execution_count": 127,
   "metadata": {},
   "outputs": [
    {
     "data": {
      "text/plain": [
       "0.0"
      ]
     },
     "execution_count": 127,
     "metadata": {},
     "output_type": "execute_result"
    }
   ],
   "source": [
    "pref = zeros(size(X)[1])\n",
    "for i in 1:size(X)[1]\n",
    "    pref[i] = sum(X[i,:] .> 2e-5) + sum(X[i,:] .< -2e-5)\n",
    "end\n",
    "minimum(pref)"
   ]
  },
  {
   "cell_type": "code",
   "execution_count": 232,
   "metadata": {
    "scrolled": true
   },
   "outputs": [
    {
     "name": "stdout",
     "output_type": "stream",
     "text": [
      "(15638, 28301)(28301, 200)done"
     ]
    }
   ],
   "source": [
    "vars = matread(\"R5T3.mat\")\n",
    "S = vars[\"S\"]\n",
    "U = vars[\"U\"]\n",
    "L = vars[\"L\"]\n",
    "K = vars[\"K\"]\n",
    "n,d = size(S)\n",
    "print(size(S))\n",
    "print(size(L))\n",
    "\n",
    "n,d = size(S) # n=10 d=100\n",
    "d,k = size(L) # k = 5\n",
    "\n",
    "print(\"done\")\n",
    "\n",
    "target = size(L)[2] - K ;"
   ]
  },
  {
   "cell_type": "code",
   "execution_count": 130,
   "metadata": {},
   "outputs": [],
   "source": [
    "X = (x->round.(x,digits=8)).(X);"
   ]
  },
  {
   "cell_type": "code",
   "execution_count": 226,
   "metadata": {},
   "outputs": [],
   "source": [
    "function f_zero_rows(X)\n",
    "    zero_rows = 0\n",
    "    for i in 1:size(X)[1]\n",
    "        zero_rows += Int16( (sum( X[i,:] .>= 2e-5 ) + sum( X[i,:] .<= -2e-5 )) == 0)\n",
    "    end\n",
    "    return zero_rows\n",
    "end;"
   ]
  },
  {
   "cell_type": "code",
   "execution_count": 227,
   "metadata": {},
   "outputs": [],
   "source": [
    "function f_zero_cols(Z)\n",
    "    zero_cols = 0\n",
    "    for i in 1:size(Z)[2]\n",
    "        zero_cols += Int16( (sum( Z[:,i] .> 2e-5 ) + sum( Z[:,i] .< -2e-5 )) == 0)\n",
    "    end\n",
    "    return zero_cols\n",
    "end;"
   ]
  },
  {
   "cell_type": "code",
   "execution_count": 1,
   "metadata": {},
   "outputs": [],
   "source": [
    "tresh = 1\n",
    "while true\n",
    "    \n",
    "    function myCondition(y)\n",
    "        return y == tresh\n",
    "    end\n",
    "    pot_ind = findall(myCondition,pref);\n",
    "    \n",
    "    \n",
    "    X_p = copy(X)\n",
    "    for i in pot_ind\n",
    "        X[i,:] .= 0\n",
    "        Z = S*X;\n",
    "        bad = sum(vec(X) .> vec(U)+ones(size(vec(U))[1])*2e-5) + sum(vec(X) .< vec(L)-ones(size(vec(U))[1])*2e-5)\n",
    "        if( ((f_zero_cols(Z))<target) | bad >0 )\n",
    "            X = copy(X_p)\n",
    "        else\n",
    "            X_p = copy(X)\n",
    "        end\n",
    "    end\n",
    "    Z = S*X;\n",
    "    z_rows = f_zero_rows(X)\n",
    "    println(\"zero rows: \", z_rows)\n",
    "    writedlm(\"output_$z_rows.txt\", Matrix(reshape(value.(X),(d,k))), ',')\n",
    "    tresh += 1\n",
    "end"
   ]
  }
 ],
 "metadata": {
  "kernelspec": {
   "display_name": "Julia 1.6.1",
   "language": "julia",
   "name": "julia-1.6"
  },
  "language_info": {
   "file_extension": ".jl",
   "mimetype": "application/julia",
   "name": "julia",
   "version": "1.6.1"
  }
 },
 "nbformat": 4,
 "nbformat_minor": 4
}
